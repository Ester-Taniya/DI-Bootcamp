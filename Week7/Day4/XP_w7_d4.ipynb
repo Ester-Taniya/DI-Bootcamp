{
  "nbformat": 4,
  "nbformat_minor": 0,
  "metadata": {
    "colab": {
      "provenance": [],
      "authorship_tag": "ABX9TyPTnD3f9aU9Q1fRp8YjGcmi",
      "include_colab_link": true
    },
    "kernelspec": {
      "name": "python3",
      "display_name": "Python 3"
    },
    "language_info": {
      "name": "python"
    }
  },
  "cells": [
    {
      "cell_type": "markdown",
      "metadata": {
        "id": "view-in-github",
        "colab_type": "text"
      },
      "source": [
        "<a href=\"https://colab.research.google.com/github/Ester-Taniya/DI-Bootcamp/blob/main/Week7/Day4/XP_w7_d4.ipynb\" target=\"_parent\"><img src=\"https://colab.research.google.com/assets/colab-badge.svg\" alt=\"Open In Colab\"/></a>"
      ]
    },
    {
      "cell_type": "markdown",
      "source": [
        "🌟 Exercise 1 : Defining The Problem And Data Collection For Loan Default Prediction"
      ],
      "metadata": {
        "id": "iB5O39GyL-sY"
      }
    },
    {
      "cell_type": "markdown",
      "source": [
        "Data Types for Project:\n",
        "\n",
        "Personal Details of Applicants:\n",
        "Name, age, gender, marital status, and other demographic information.\n",
        "Employment details, including occupation, income, and length of employment.\n",
        "Credit Scores:\n",
        "Credit scores from credit bureaus, providing an assessment of an individual's creditworthiness.\n",
        "Loan Details:\n",
        "Loan amount applied for.\n",
        "Purpose of the loan (e.g., home purchase, education, personal).\n",
        "Loan term and interest rates.\n",
        "Repayment History:\n",
        "Historical data on previous loans and repayment behavior.\n",
        "Existing debts and outstanding balances.\n",
        "Financial Statements:\n",
        "Bank statements providing insights into an applicant's financial stability.\n",
        "Tax returns and income statements.\n",
        "Data Sources:\n",
        "\n",
        "Financial Institution's Internal Records:\n",
        "Customer databases containing personal and financial details.\n",
        "Historical loan application and repayment records.\n",
        "Credit Bureaus:\n",
        "Experian, Equifax, TransUnion, and other credit bureaus provide credit scores and credit reports.\n",
        "Employment Verification:\n",
        "Collaboration with employers to verify employment details.\n",
        "Applicant Declarations:\n",
        "Self-declared information by applicants on income, employment, and other relevant details.\n",
        "Public Records:\n",
        "Legal records and public databases for bankruptcy filings, liens, and other financial judgments.\n",
        "Data Collection Plan:\n",
        "\n",
        "Internal Data Retrieval:\n",
        "Extract relevant data from the financial institution's internal databases and records.\n",
        "Credit Bureau Data Access:\n",
        "Establish partnerships with credit bureaus to access credit scores and reports.\n",
        "Employment Verification:\n",
        "Collaborate with employers or use third-party services for verifying employment details.\n",
        "Applicant Declarations:\n",
        "Incorporate mechanisms to collect and verify self-declared information from loan applicants.\n",
        "Legal and Public Records:\n",
        "Utilize public records and legal databases to supplement applicant information.\n",
        "\n"
      ],
      "metadata": {
        "id": "NwHlEhUSMMu5"
      }
    },
    {
      "cell_type": "markdown",
      "source": [
        "🌟 Exercise 2 : Feature Selection And Model Choice For Loan Default Prediction\n",
        "\n"
      ],
      "metadata": {
        "id": "yxzaj7prMM5u"
      }
    },
    {
      "cell_type": "markdown",
      "source": [
        "Pepayment History:\n",
        "Justification: This is often considered one of the most critical factors. It provides insights into an applicant's past behavior regarding loan repayments. A consistent history of timely repayments indicates financial responsibility and reduces the risk of defaults.\n",
        "Credit Score:\n",
        "Justification: Credit scores are numerical representations of an individual's creditworthiness. Higher credit scores indicate lower credit risk, making it a valuable predictor of loan defaults.\n",
        "Income:\n",
        "Justification: A higher income level generally signifies greater financial stability. Individuals with higher incomes are more likely to meet their financial obligations, reducing the risk of default.\n"
      ],
      "metadata": {
        "id": "hkqYgHRJMM9A"
      }
    },
    {
      "cell_type": "markdown",
      "source": [
        "🌟 Exercise 3 : Training, Evaluating, And Optimizing The Model\n",
        "\n"
      ],
      "metadata": {
        "id": "-H0hqiquMNGR"
      }
    },
    {
      "cell_type": "markdown",
      "source": [
        "Data Splitting:\n",
        "Objective: Divide the dataset into training and testing sets.\n",
        "Reasoning: This allows for training the model on one subset and evaluating its performance on unseen data.\n",
        "Model Training:\n",
        "Objective: Train the predictive model on the training dataset.\n",
        "Reasoning: The model learns patterns and relationships between features during this phase.\n",
        "Model Prediction:\n",
        "Objective: Use the trained model to make predictions on the testing dataset.\n",
        "Reasoning: Evaluating the model's performance on unseen data provides insights into its generalization ability.\n",
        "Confusion Matrix:\n",
        "Objective: Create a confusion matrix to analyze the model's classification performance.\n",
        "Metrics:\n",
        "True Positive (TP): Instances correctly predicted as loan defaults.\n",
        "True Negative (TN): Instances correctly predicted as non-defaults.\n",
        "False Positive (FP): Instances predicted as defaults but are non-defaults.\n",
        "False Negative (FN): Instances predicted as non-defaults but are defaults.\n",
        "Accuracy:\n",
        "Objective: Calculate the ratio of correctly predicted instances to the total instances.\n",
        "Precision:\n",
        "Objective: Assess the model's ability to correctly identify loan defaults among the predicted defaults\n",
        "\n"
      ],
      "metadata": {
        "id": "fIx-kWweL-vW"
      }
    },
    {
      "cell_type": "markdown",
      "source": [
        "🌟 Exercise 4 : Designing Machine Learning Solutions For Specific Problems\n",
        "\n"
      ],
      "metadata": {
        "id": "P7oCh4UlL-yT"
      }
    },
    {
      "cell_type": "markdown",
      "source": [
        "Predicting Stock Prices:\n",
        "Type of Machine Learning: Time Series Forecasting (Supervised Learning)\n",
        "Explanation:\n",
        "Reasoning: Time series data involves a sequence of observations recorded over time, making it suitable for supervised learning.\n",
        "Features and Target: Historical stock prices (features) and the target is the future stock price.\n",
        "Algorithm: Regression algorithms, such as linear regression or more advanced models like ARIMA (AutoRegressive Integrated Moving Average), LSTM (Long Short-Term Memory), or other neural networks.\n",
        "Training Data: Historical stock price data with corresponding dates.\n",
        "Evaluation: Mean Squared Error (MSE) or other regression metrics to measure the model's accuracy in predicting future stock prices.\n",
        "Organizing a Library of Books:\n",
        "Type of Machine Learning: Unsupervised Learning (Clustering)\n",
        "Explanation:\n",
        "Reasoning: The task involves grouping books into genres or categories based on similarities, without predefined labels.\n",
        "Features and Target: Features could be book attributes like genre, author, language, etc.\n",
        "Algorithm: Clustering algorithms like K-Means, Hierarchical Clustering, or DBSCAN.\n",
        "Training Data: Books with relevant attributes.\n",
        "Evaluation: Internal validation indices (e.g., Silhouette Score) or external evaluation based on expert validation of resulting clusters.\n",
        "Program a Robot to Navigate and Find the Shortest Path in a Maze:\n",
        "Type of Machine Learning: Reinforcement Learning\n",
        "Explanation:\n",
        "Reasoning: Reinforcement Learning is suitable for scenarios where an agent learns to interact with an environment and receives feedback in the form of rewards or penalties.\n",
        "Features and Target: Features include the current state of the robot and possible actions (move forward, turn left, turn right, etc.). The target is the reward signal.\n",
        "Algorithm: Q-Learning, Deep Q Network (DQN), or other reinforcement learning algorithms.\n",
        "Training Data: Iterative interactions of the robot with the maze, updating the Q-values based on rewards and penalties.\n",
        "Evaluation: Measure the robot's ability to find the shortest path and its efficiency in navigation.\n"
      ],
      "metadata": {
        "id": "iBKZWJ69L-1F"
      }
    },
    {
      "cell_type": "markdown",
      "source": [
        "🌟 Exercise 5 : Designing An Evaluation Strategy For Different ML Models\n",
        "\n"
      ],
      "metadata": {
        "id": "emYsMMf5L-3-"
      }
    },
    {
      "cell_type": "markdown",
      "source": [
        "Metrics: Accuracy, Precision, Recall, F1-score.\n",
        "Methods:\n",
        "Cross-validation: Split the dataset into training and testing sets, applying k-fold cross-validation to assess the model's performance across different subsets.\n",
        "ROC Curves: Plot the Receiver Operating Characteristic (ROC) curve and calculate the Area Under the Curve (AUC) to evaluate the classifier's ability to distinguish between classes.\n",
        "Challenges and Limitations:\n",
        "\n",
        "SVM performance heavily depends on the choice of kernel and hyperparameters.\n",
        "Imbalanced datasets may affect the interpretation of performance metrics.\n",
        "Unsupervised Learning Model: K-Means Clustering\n",
        "\n",
        "Assessment of Effectiveness:\n",
        "\n",
        "Techniques:\n",
        "Silhouette Score: Measure how well-separated clusters are. A higher silhouette score indicates better-defined clusters.\n",
        "Elbow Method: Identify the point where the decrease in within-cluster sum of squares (WCSS) slows down, suggesting the optimal number of clusters.\n",
        "Challenges and Limitations:\n",
        "\n",
        "Sensitivity to the initial choice of centroids.\n",
        "May not work well with clusters of irregular shapes or varying sizes.\n",
        "Reinforcement Learning Model: Deep Q Network (DQN)\n",
        "\n",
        "Measurement of Success:\n",
        "\n",
        "Aspects to Consider:\n",
        "Cumulative Reward: Evaluate the cumulative reward achieved by the agent over multiple episodes.\n",
        "Convergence: Monitor how quickly the model converges to an optimal policy.\n",
        "Exploration vs. Exploitation Balance: Assess the balance between exploring new actions and exploiting known actions.\n",
        "Challenges and Limitations:\n",
        "\n",
        "Training stability can be a challenge, and hyperparameter tuning is crucial.\n",
        "Evaluating exploration vs. exploitation requires a delicate balance, as overly focusing on exploration might hinder performance.\n",
        "Each category presents its unique challenges in model evaluation. The choice of metrics and methods should align with the specific characteristics and goals of the learning paradigm. Additionally, considerations of challenges and limitations are crucial to interpreting evaluation results accurately."
      ],
      "metadata": {
        "id": "37V1B_wyL-6p"
      }
    }
  ]
}
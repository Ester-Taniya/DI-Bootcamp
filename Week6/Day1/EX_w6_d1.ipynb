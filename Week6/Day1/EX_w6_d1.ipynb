{
  "nbformat": 4,
  "nbformat_minor": 0,
  "metadata": {
    "colab": {
      "provenance": [],
      "authorship_tag": "ABX9TyPDveWa9z4zEu3zpXfB49wo",
      "include_colab_link": true
    },
    "kernelspec": {
      "name": "python3",
      "display_name": "Python 3"
    },
    "language_info": {
      "name": "python"
    }
  },
  "cells": [
    {
      "cell_type": "markdown",
      "metadata": {
        "id": "view-in-github",
        "colab_type": "text"
      },
      "source": [
        "<a href=\"https://colab.research.google.com/github/Ester-Taniya/DI-Bootcamp/blob/main/Week6/Day1/EX_w6_d1.ipynb\" target=\"_parent\"><img src=\"https://colab.research.google.com/assets/colab-badge.svg\" alt=\"Open In Colab\"/></a>"
      ]
    },
    {
      "cell_type": "markdown",
      "source": [
        "🌟 Exercise 1 : Array Creation And Manipulation\n",
        "\n",
        "Instructions\n",
        "\n",
        "Create a 1D NumPy array containing numbers from 0 to 9.\n",
        "\n",
        "Expected Output: array([0, 1, 2, 3, 4, 5, 6, 7, 8, 9])"
      ],
      "metadata": {
        "id": "PwPZJycd6rDz"
      }
    },
    {
      "cell_type": "code",
      "execution_count": 11,
      "metadata": {
        "id": "d5KEC6qEpO79",
        "colab": {
          "base_uri": "https://localhost:8080/"
        },
        "outputId": "4716a8df-1ee3-4cc3-b2c7-834a6401eb12"
      },
      "outputs": [
        {
          "output_type": "execute_result",
          "data": {
            "text/plain": [
              "array([0, 1, 2, 3, 4, 5, 6, 7, 8, 9])"
            ]
          },
          "metadata": {},
          "execution_count": 11
        }
      ],
      "source": [
        "import numpy as np\n",
        "NumPy_array_1D = np.arange(10)\n",
        "\n",
        "NumPy_array_1D"
      ]
    },
    {
      "cell_type": "markdown",
      "source": [
        "🌟Exercise 2 : Type Conversion And Array Operations\n",
        "\n",
        "Instructions\n",
        "\n",
        "Convert a list [3.14, 2.17, 0, 1, 2] into a NumPy array and convert its data type to integer.\n",
        "\n",
        "Expected Output: array([3, 2, 0, 1, 2])"
      ],
      "metadata": {
        "id": "S9P0jr496w4f"
      }
    },
    {
      "cell_type": "code",
      "source": [
        "A_list =  [3.14, 2.17, 0, 1, 2]\n",
        "NumPy_array = np.array(A_list, dtype=int)\n",
        "NumPy_array\n"
      ],
      "metadata": {
        "colab": {
          "base_uri": "https://localhost:8080/"
        },
        "id": "sE8VHEyO6gwX",
        "outputId": "a9e38868-b06e-465d-e75b-774f5b83c827"
      },
      "execution_count": 17,
      "outputs": [
        {
          "output_type": "execute_result",
          "data": {
            "text/plain": [
              "array([3, 2, 0, 1, 2])"
            ]
          },
          "metadata": {},
          "execution_count": 17
        }
      ]
    },
    {
      "cell_type": "markdown",
      "source": [
        "🌟 Exercise 3 : Working With Multi-Dimensional Arrays\n",
        "\n",
        "Instructions\n",
        "\n",
        "Create a 3x3 NumPy array with values ranging from 1 to 9.\n",
        "\n",
        "Expected Output:\n",
        "\n",
        "\n",
        "\n",
        "array([[1, 2, 3],\n",
        "       [4, 5, 6],\n",
        "       [7, 8, 9]])"
      ],
      "metadata": {
        "id": "x-dhqicX676y"
      }
    },
    {
      "cell_type": "code",
      "source": [
        "NumPy_array = np.arange(1,10)\n",
        "\n",
        "array_3x3 = NumPy_array.reshape(3, 3)\n",
        "array_3x3"
      ],
      "metadata": {
        "colab": {
          "base_uri": "https://localhost:8080/"
        },
        "id": "yYBPZvLi92Tx",
        "outputId": "c007a664-cb4d-4481-ad84-eb037c3415fd"
      },
      "execution_count": 22,
      "outputs": [
        {
          "output_type": "execute_result",
          "data": {
            "text/plain": [
              "array([[1, 2, 3],\n",
              "       [4, 5, 6],\n",
              "       [7, 8, 9]])"
            ]
          },
          "metadata": {},
          "execution_count": 22
        }
      ]
    },
    {
      "cell_type": "markdown",
      "source": [
        "🌟 Exercise 4 : Creating Multi-Dimensional Array With Random Numbers\n",
        "\n",
        "Instructions\n",
        "\n",
        "Create a 2D NumPy array of shape (4, 5) filled with random numbers.\n",
        "\n",
        "Expected Output:\n",
        "\n",
        "\n",
        "\n",
        "array([[0.56, 0.85, 0.01, 0.42, 0.68],\n",
        "       [0.22, 0.37, 0.73, 0.93, 0.39],\n",
        "       [0.44, 0.03, 0.87, 0.02, 0.83],\n",
        "       [0.78, 0.87, 0.98, 0.80, 0.46]])"
      ],
      "metadata": {
        "id": "ld_dJkK568Wx"
      }
    },
    {
      "cell_type": "code",
      "source": [
        "NumPy_array_2D = np.round(np.random.rand(4, 5), 2)\n",
        "\n",
        "NumPy_array_2D"
      ],
      "metadata": {
        "colab": {
          "base_uri": "https://localhost:8080/"
        },
        "id": "amKm6pHl92eN",
        "outputId": "a6022522-6021-4ac2-f911-0580cd24527b"
      },
      "execution_count": 26,
      "outputs": [
        {
          "output_type": "execute_result",
          "data": {
            "text/plain": [
              "array([[0.06, 0.24, 0.93, 0.72, 0.37],\n",
              "       [0.62, 0.03, 0.43, 0.52, 0.74],\n",
              "       [0.08, 0.76, 0.36, 0.5 , 0.43],\n",
              "       [0.79, 0.75, 0.84, 0.21, 0.23]])"
            ]
          },
          "metadata": {},
          "execution_count": 26
        }
      ]
    },
    {
      "cell_type": "markdown",
      "source": [
        "🌟 Exercise 5 : Indexing Arrays\n",
        "\n",
        "Instructions\n",
        "\n",
        "Select the second row from a given 2D NumPy array.\n",
        "\n",
        "Expected Output:\n",
        "\n",
        "\n",
        "\n",
        "array([20, 21, 22, 23, 24])"
      ],
      "metadata": {
        "id": "unIDtYca68gB"
      }
    },
    {
      "cell_type": "code",
      "source": [
        "\n",
        "NumPy_array_2D = np.array([[10, 11, 12, 13, 14],\n",
        "                     [20, 21, 22, 23, 24],\n",
        "                     [30, 31, 32, 33, 34],\n",
        "                      [40, 41, 42, 43, 44],])\n",
        "\n",
        "second_row = NumPy_array_2D[1, :]\n",
        "\n",
        "second_row"
      ],
      "metadata": {
        "colab": {
          "base_uri": "https://localhost:8080/"
        },
        "id": "eMRZJG-P92n0",
        "outputId": "d19dbc70-07c6-4fc2-87e4-d3557c9b0c1b"
      },
      "execution_count": 27,
      "outputs": [
        {
          "output_type": "execute_result",
          "data": {
            "text/plain": [
              "array([20, 21, 22, 23, 24])"
            ]
          },
          "metadata": {},
          "execution_count": 27
        }
      ]
    },
    {
      "cell_type": "markdown",
      "source": [
        "🌟 Exercise 6 : Reversing Elements\n",
        "\n",
        "Instructions\n",
        "\n",
        "Reverse the order of elements in a given 1D NumPy array (first element becomes last).\n",
        "\n",
        "Expected Output:\n",
        "\n",
        "\n",
        "\n",
        "array([9, 8, 7, 6, 5, 4, 3, 2, 1, 0])"
      ],
      "metadata": {
        "id": "Vw9rQnpRBxju"
      }
    },
    {
      "cell_type": "code",
      "source": [
        "NumPy_array_1D = np.arange(10)\n",
        "Reverse_array=NumPy_array_1D[::-1]\n",
        "Reverse_array"
      ],
      "metadata": {
        "colab": {
          "base_uri": "https://localhost:8080/"
        },
        "id": "cqW0RTGV6gz2",
        "outputId": "5e2d5250-6c93-4664-b5ac-8c27fce991f4"
      },
      "execution_count": 28,
      "outputs": [
        {
          "output_type": "execute_result",
          "data": {
            "text/plain": [
              "array([9, 8, 7, 6, 5, 4, 3, 2, 1, 0])"
            ]
          },
          "metadata": {},
          "execution_count": 28
        }
      ]
    },
    {
      "cell_type": "markdown",
      "source": [
        "🌟 Exercise 7 : Identity Matrix\n",
        "\n",
        "Instructions\n",
        "\n",
        "Create a 4x4 identity matrix using NumPy.\n",
        "\n",
        "Expected Output:\n",
        "\n",
        "\n",
        "\n",
        "array([[1., 0., 0., 0.],\n",
        "       [0., 1., 0., 0.],\n",
        "       [0., 0., 1., 0.],\n",
        "       [0., 0., 0., 1.]])"
      ],
      "metadata": {
        "id": "KXt_fK-lBxw9"
      }
    },
    {
      "cell_type": "code",
      "source": [
        "identity_matrix_4x4 = np.eye(4)\n",
        "\n",
        "identity_matrix_4x4"
      ],
      "metadata": {
        "colab": {
          "base_uri": "https://localhost:8080/"
        },
        "id": "PGL-ONNB6g3G",
        "outputId": "9a94fc40-1392-48a0-d120-ed86ac300535"
      },
      "execution_count": 29,
      "outputs": [
        {
          "output_type": "execute_result",
          "data": {
            "text/plain": [
              "array([[1., 0., 0., 0.],\n",
              "       [0., 1., 0., 0.],\n",
              "       [0., 0., 1., 0.],\n",
              "       [0., 0., 0., 1.]])"
            ]
          },
          "metadata": {},
          "execution_count": 29
        }
      ]
    },
    {
      "cell_type": "markdown",
      "source": [
        "🌟 Exercise 8 : Simple Aggregate Funcs\n",
        "\n",
        "Instructions\n",
        "\n",
        "Find the sum and average of a given 1D array.\n",
        "\n",
        "Expected Output:\n",
        "\n",
        "\n",
        "\n",
        "Sum: 45, Average: 4.5"
      ],
      "metadata": {
        "id": "CXE8lyi0Bx7G"
      }
    },
    {
      "cell_type": "code",
      "source": [
        "NumPy_array_1D = np.arange(10)\n",
        "sum_array = np.sum(NumPy_array_1D)\n",
        "average_array = np.mean(NumPy_array_1D)\n",
        "\n",
        "print(\"Sum:\", sum_array, \", Average:\", average_array)\n",
        "\n"
      ],
      "metadata": {
        "id": "iB7_gyWOpvLu",
        "colab": {
          "base_uri": "https://localhost:8080/"
        },
        "outputId": "04c65aba-9134-40d9-a212-bc6c4ad982f8"
      },
      "execution_count": 31,
      "outputs": [
        {
          "output_type": "stream",
          "name": "stdout",
          "text": [
            "Sum: 45 , Average: 4.5\n"
          ]
        }
      ]
    },
    {
      "cell_type": "markdown",
      "source": [
        "🌟 Exercise 9 : Create Array And Change Its Structure\n",
        "\n",
        "Instructions\n",
        "\n",
        "Create a NumPy array with elements from 1 to 20; then reshape it into a 4x5 matrix.\n",
        "\n",
        "Expected Output:\n",
        "\n",
        "\n",
        "\n",
        "array([[ 1,  2,  3,  4,  5],\n",
        "       [ 6,  7,  8,  9, 10],\n",
        "       [11, 12, 13, 14, 15],\n",
        "       [16, 17, 18, 19, 20]])"
      ],
      "metadata": {
        "id": "JhMi7ecmB7LZ"
      }
    },
    {
      "cell_type": "code",
      "source": [
        "NumPy_array=np.arange(1,21)\n",
        "matrix_4x5 = NumPy_array.reshape(4, 5)\n",
        "matrix_4x5"
      ],
      "metadata": {
        "colab": {
          "base_uri": "https://localhost:8080/"
        },
        "id": "pIazFe7WB-MF",
        "outputId": "75bac1d3-e6a0-4052-a4b7-811381b19a30"
      },
      "execution_count": 34,
      "outputs": [
        {
          "output_type": "execute_result",
          "data": {
            "text/plain": [
              "array([[ 1,  2,  3,  4,  5],\n",
              "       [ 6,  7,  8,  9, 10],\n",
              "       [11, 12, 13, 14, 15],\n",
              "       [16, 17, 18, 19, 20]])"
            ]
          },
          "metadata": {},
          "execution_count": 34
        }
      ]
    },
    {
      "cell_type": "markdown",
      "source": [
        "🌟 Exercise 10 : Conditional Selection Of Values\n",
        "\n",
        "Instructions\n",
        "\n",
        "Extract all odd numbers from a given NumPy array.\n",
        "\n",
        "Expected Output:\n",
        "\n",
        "\n",
        "\n",
        "array([1, 3, 5, 7, 9])"
      ],
      "metadata": {
        "id": "HaqrOBzgB-b9"
      }
    },
    {
      "cell_type": "code",
      "source": [
        "NumPy_array = np.arange(1,10)\n",
        "odd_numbers = NumPy_array[NumPy_array% 2 != 0]\n",
        "odd_numbers"
      ],
      "metadata": {
        "colab": {
          "base_uri": "https://localhost:8080/"
        },
        "id": "7F66YM4dCBJa",
        "outputId": "f34f604f-d482-49af-e019-e6f5c72d4420"
      },
      "execution_count": 38,
      "outputs": [
        {
          "output_type": "execute_result",
          "data": {
            "text/plain": [
              "array([1, 3, 5, 7, 9])"
            ]
          },
          "metadata": {},
          "execution_count": 38
        }
      ]
    }
  ]
}
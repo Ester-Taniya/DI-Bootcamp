{
  "nbformat": 4,
  "nbformat_minor": 0,
  "metadata": {
    "colab": {
      "provenance": [],
      "authorship_tag": "ABX9TyNv9x/C6Ae/DAIhzW0QoxY3",
      "include_colab_link": true
    },
    "kernelspec": {
      "name": "python3",
      "display_name": "Python 3"
    },
    "language_info": {
      "name": "python"
    }
  },
  "cells": [
    {
      "cell_type": "markdown",
      "metadata": {
        "id": "view-in-github",
        "colab_type": "text"
      },
      "source": [
        "<a href=\"https://colab.research.google.com/github/Ester-Taniya/DI-Bootcamp/blob/main/Week6/Day2/XP_w6_d2.ipynb\" target=\"_parent\"><img src=\"https://colab.research.google.com/assets/colab-badge.svg\" alt=\"Open In Colab\"/></a>"
      ]
    },
    {
      "cell_type": "markdown",
      "source": [
        "🌟 Exercise 1 : Matrix Operations\n",
        "\n",
        "Instructions\n",
        "\n",
        "In this exercise, you’ll work with a 3x3 matrix. Here’s a brief explanation of the concepts:\n",
        "- Determinant: The determinant is a value that can be computed from the elements of a square matrix. It provides important information about the matrix, such as whether it has an inverse, and is used in various areas like linear algebra and calculus.\n",
        "- Inverse of a Matrix: The inverse of a matrix is a matrix that, when multiplied with the original matrix, results in an identity matrix. Not all matrices have inverses. The inverse is crucial in solving systems of linear equations.\n",
        "\n",
        "Create a 3x3 matrix and perform the following operations:\n",
        "1. Calculate the determinant.\n",
        "2. Find the inverse of the matrix.\n",
        "\n"
      ],
      "metadata": {
        "id": "ZaEq_O4NgIcC"
      }
    },
    {
      "cell_type": "code",
      "source": [
        "import numpy as np\n",
        "array = np.arange(1,10)\n",
        "\n",
        "matrix_3x3 = array.reshape(3, 3)\n",
        "matrix_3x3"
      ],
      "metadata": {
        "colab": {
          "base_uri": "https://localhost:8080/"
        },
        "id": "MYF4AEhNgSYR",
        "outputId": "d40c5473-57c3-4dc0-a9a1-25507b427746"
      },
      "execution_count": 17,
      "outputs": [
        {
          "output_type": "execute_result",
          "data": {
            "text/plain": [
              "array([[1, 2, 3],\n",
              "       [4, 5, 6],\n",
              "       [7, 8, 9]])"
            ]
          },
          "metadata": {},
          "execution_count": 17
        }
      ]
    },
    {
      "cell_type": "code",
      "source": [
        "determinant = np.linalg.det(matrix_3x3)\n",
        "\n",
        "# Find the inverse of the matrix\n",
        "try:\n",
        "    inverse_matrix = np.linalg.inv(matrix_3x3)\n",
        "except np.linalg.LinAlgError:\n",
        "    inverse_matrix = \"The matrix is singular, and its inverse matrix  does not exist.\"\n",
        "\n",
        "\n",
        "print(\"\\nDeterminant:\")\n",
        "print(determinant)\n",
        "\n",
        "print(\"\\nInverse Matrix:\")\n",
        "print(inverse_matrix)"
      ],
      "metadata": {
        "colab": {
          "base_uri": "https://localhost:8080/"
        },
        "id": "inQ_7HSmiN5O",
        "outputId": "943c3cdf-2e1e-4f05-8e70-c0ac7b7b1723"
      },
      "execution_count": 9,
      "outputs": [
        {
          "output_type": "stream",
          "name": "stdout",
          "text": [
            "\n",
            "Determinant:\n",
            "0.0\n",
            "\n",
            "Inverse Matrix:\n",
            "The matrix is singular, and its inverse matrix  does not exist.\n"
          ]
        }
      ]
    },
    {
      "cell_type": "markdown",
      "source": [
        "\n",
        "\n",
        "🌟 Exercise 2 : Statistical Analysis\n",
        "\n",
        "Instructions\n",
        "\n",
        "In this exercise, you’ll calculate statistical measures for a dataset:\n",
        "- Mean: The average value of a dataset.\n",
        "- Median: The middle value in a dataset when it is arranged in ascending or descending order.\n",
        "- Standard Deviation: A measure of the amount of variation or dispersion in a set of values.\n",
        "\n",
        "Using NumPy, generate an array of 50 random numbers and compute:\n",
        "1. The mean and median.\n",
        "2. The standard deviation.\n",
        "\n",
        "\n"
      ],
      "metadata": {
        "id": "xirnRWKngIro"
      }
    },
    {
      "cell_type": "code",
      "source": [
        "random_array = np.random.rand(50)\n",
        "\n",
        "mean_value = np.mean(random_array)\n",
        "median_value = np.median(random_array)\n",
        "\n",
        "\n",
        "print(\"The array of 50 random numbers:\", random_array)\n",
        "print('n/', \"The mean value:\", mean_value)\n",
        "print(\"The median value\", median_value)\n",
        "\n",
        "print(f\"The Standard Deviation: {std_deviation:.2f}\")\n"
      ],
      "metadata": {
        "colab": {
          "base_uri": "https://localhost:8080/"
        },
        "id": "bE2Wc6IekoFR",
        "outputId": "c85065f2-2e4e-4c62-ba81-28034892e9c5"
      },
      "execution_count": 44,
      "outputs": [
        {
          "output_type": "stream",
          "name": "stdout",
          "text": [
            "The array of 50 random numbers: [0.43836368 0.49286728 0.9886071  0.29676448 0.6234201  0.47512855\n",
            " 0.14963414 0.09077161 0.69404358 0.76890188 0.10404951 0.83520235\n",
            " 0.03936894 0.95364105 0.9364917  0.87798449 0.90986317 0.79889066\n",
            " 0.75286167 0.34423309 0.94138617 0.82606247 0.88685852 0.46342979\n",
            " 0.99540458 0.01386934 0.71044522 0.99568673 0.1436124  0.67179277\n",
            " 0.43635963 0.74386511 0.63019696 0.92194391 0.16424932 0.29765224\n",
            " 0.12174883 0.71845355 0.63311034 0.33321725 0.45987066 0.90946457\n",
            " 0.23426636 0.60386749 0.36366334 0.57459933 0.5373875  0.7672019\n",
            " 0.8390598  0.24827516]\n",
            "n/The mean value: 0.5751618052752229\n",
            "The median value 0.6268085305761746\n",
            "The Standard Deviation: 0.31\n"
          ]
        }
      ]
    },
    {
      "cell_type": "code",
      "source": [
        "arrey = np.random.rand(50)\n",
        "mean_value = np.mean(array)\n",
        "median_value = np.median(array)\n",
        "std_deviation = np.std(array)\n",
        "print(\"The array of 50 random numbers:\", random_array)\n",
        "\n",
        "print(\"\\nThe mean value:\", mean_value)\n",
        "print(\"The median value\", median_value)\n",
        "print(f\"The Standard Deviation: {std_deviation:.2f}\")"
      ],
      "metadata": {
        "colab": {
          "base_uri": "https://localhost:8080/"
        },
        "id": "3S0wRw6ejYx8",
        "outputId": "9db0f96b-d7b3-4cca-a760-99a424179d36"
      },
      "execution_count": 58,
      "outputs": [
        {
          "output_type": "stream",
          "name": "stdout",
          "text": [
            "The array of 50 random numbers: [0.25009994 0.2515321  0.84587643 0.96223624 0.99778504 0.44139533\n",
            " 0.69832085 0.58223086 0.60145001 0.37311881 0.93867283 0.49689382\n",
            " 0.02306662 0.93298437 0.51899904 0.07650007 0.022167   0.61722155\n",
            " 0.91949506 0.81386862 0.07269321 0.21137618 0.7502561  0.17772834\n",
            " 0.1122693  0.16765091 0.04919525 0.10398881 0.18558556 0.3828843\n",
            " 0.19621425 0.68498877 0.1748169  0.24170071 0.50626878 0.69203555\n",
            " 0.42582913 0.28507297 0.44054442 0.49093752 0.29724804 0.57746722\n",
            " 0.8277443  0.24224829 0.32159977 0.54696043 0.63596593 0.24816302\n",
            " 0.37112519 0.84046454]\n",
            "\n",
            "The mean value: 5.0\n",
            "The median value 5.0\n",
            "The Standard Deviation: 2.58\n"
          ]
        }
      ]
    },
    {
      "cell_type": "markdown",
      "source": [
        "\n",
        "🌟 Exercise 3 : Date Manipulation\n",
        "\n",
        "Instructions\n",
        "\n",
        "Create a NumPy array of dates for the month of January 2023. Convert these dates to another format (e.g., YYYY/MM/DD).\n",
        "\n"
      ],
      "metadata": {
        "id": "6_-hqRs5hJcC"
      }
    },
    {
      "cell_type": "code",
      "source": [
        "import numpy as np\n",
        "from datetime import datetime\n",
        "\n",
        "#arrey of date from 1st day until last day of jan\n",
        "date_array = np.arange('2023-01-01', '2023-01-31', dtype='datetime64[D]')\n",
        "\n",
        "\n",
        "# Convert the dates to the YYYY/MM/DD format\n",
        "Converted_dates = pd.to_datetime(date_array).strftime('%Y/%m/%d')\n",
        "\n",
        "\n",
        "print('All date of  January 2023: ')\n",
        "print(date_array)\n",
        "print('Converted arrey: ')\n",
        "print(Converted_dates)"
      ],
      "metadata": {
        "colab": {
          "base_uri": "https://localhost:8080/"
        },
        "id": "xTKj2ievnpYO",
        "outputId": "057de03a-0995-46c5-f081-f460ffc29451"
      },
      "execution_count": 60,
      "outputs": [
        {
          "output_type": "stream",
          "name": "stdout",
          "text": [
            "All date of  January 2023: \n",
            "['2023-01-01' '2023-01-02' '2023-01-03' '2023-01-04' '2023-01-05'\n",
            " '2023-01-06' '2023-01-07' '2023-01-08' '2023-01-09' '2023-01-10'\n",
            " '2023-01-11' '2023-01-12' '2023-01-13' '2023-01-14' '2023-01-15'\n",
            " '2023-01-16' '2023-01-17' '2023-01-18' '2023-01-19' '2023-01-20'\n",
            " '2023-01-21' '2023-01-22' '2023-01-23' '2023-01-24' '2023-01-25'\n",
            " '2023-01-26' '2023-01-27' '2023-01-28' '2023-01-29' '2023-01-30']\n",
            "Converted arrey: \n",
            "Index(['2023/01/01', '2023/01/02', '2023/01/03', '2023/01/04', '2023/01/05',\n",
            "       '2023/01/06', '2023/01/07', '2023/01/08', '2023/01/09', '2023/01/10',\n",
            "       '2023/01/11', '2023/01/12', '2023/01/13', '2023/01/14', '2023/01/15',\n",
            "       '2023/01/16', '2023/01/17', '2023/01/18', '2023/01/19', '2023/01/20',\n",
            "       '2023/01/21', '2023/01/22', '2023/01/23', '2023/01/24', '2023/01/25',\n",
            "       '2023/01/26', '2023/01/27', '2023/01/28', '2023/01/29', '2023/01/30'],\n",
            "      dtype='object')\n"
          ]
        }
      ]
    },
    {
      "cell_type": "markdown",
      "source": [
        "🌟 Exercise 4 : Data Manipulation With NumPy And Pandas\n",
        "\n",
        "Instructions\n",
        "\n",
        "Create a DataFrame with random numbers and perform:\n",
        "1. Conditional selection of data.\n",
        "2. Aggregation functions like sum and average.\n"
      ],
      "metadata": {
        "id": "uN93R6IchALg"
      }
    },
    {
      "cell_type": "code",
      "source": [
        "#creation  data frame of random numbers\n",
        "np.random.seed(42)\n",
        "data = {'A': np.random.randint(1, 10, 10),\n",
        "        'B': np.random.normal(1, 10, 10),\n",
        "        'C': np.random.uniform(1, 10, 10)}\n",
        "\n",
        "df = pd.DataFrame(data)\n",
        "\n",
        "print(\"Original DataFrame:\")\n",
        "print(df)\n",
        "\n",
        "#Conditional selection of data\n",
        "condition = df['A'] > 3\n",
        "selected_data = df[condition]\n",
        "\n",
        "print(\"\\nConditional Selection:\")\n",
        "print(selected_data)\n",
        "\n",
        "sum_values = df.sum()\n",
        "average_values = df.mean()\n",
        "\n",
        "print(\"\\nSum of Values:\")\n",
        "print(sum_values)\n",
        "\n",
        "print(\"\\nAverage of Values:\")\n",
        "print(average_values)\n"
      ],
      "metadata": {
        "colab": {
          "base_uri": "https://localhost:8080/"
        },
        "id": "YPLeZf6ChA7r",
        "outputId": "722457e2-9832-4d3d-9098-432a5a697ec4"
      },
      "execution_count": 67,
      "outputs": [
        {
          "output_type": "stream",
          "name": "stdout",
          "text": [
            "Original DataFrame:\n",
            "   A         B         C\n",
            "0  7  4.925798  4.442158\n",
            "1  4 -8.291847  9.849078\n",
            "2  8  1.798318  5.200866\n",
            "3  5 -0.595165  8.739464\n",
            "4  7  1.222218  7.122768\n",
            "5  3 -3.277929  5.054493\n",
            "6  7 -4.318174  1.119385\n",
            "7  8 -0.174755  9.479816\n",
            "8  5  3.220789  6.069594\n",
            "9  4 -6.679765  4.468749\n",
            "\n",
            "Conditional Selection:\n",
            "   A         B         C\n",
            "0  7  4.925798  4.442158\n",
            "1  4 -8.291847  9.849078\n",
            "2  8  1.798318  5.200866\n",
            "3  5 -0.595165  8.739464\n",
            "4  7  1.222218  7.122768\n",
            "6  7 -4.318174  1.119385\n",
            "7  8 -0.174755  9.479816\n",
            "8  5  3.220789  6.069594\n",
            "9  4 -6.679765  4.468749\n",
            "\n",
            "Sum of Values:\n",
            "A    58.000000\n",
            "B   -12.170512\n",
            "C    61.546370\n",
            "dtype: float64\n",
            "\n",
            "Average of Values:\n",
            "A    5.800000\n",
            "B   -1.217051\n",
            "C    6.154637\n",
            "dtype: float64\n"
          ]
        }
      ]
    },
    {
      "cell_type": "markdown",
      "source": [
        "🌟 Exercise 5 : Image Representation\n",
        "\n",
        "Instructions\n",
        "\n",
        "Explain how images are represented in NumPy arrays and demonstrate with a simple example (e.g., creating a 5x5 grayscale image)."
      ],
      "metadata": {
        "id": "H5w27bn6g7G_"
      }
    },
    {
      "cell_type": "code",
      "source": [
        "import numpy as np\n",
        "import matplotlib.pyplot as plt\n",
        "\n",
        "image_arrey = np.random.randint(0, 256, size=(5, 5)) # 0 represent black and 256: white\n",
        "\n",
        "\n",
        "plt.imshow(image_arrey, cmap='gray')\n",
        "plt.title('Grayscale Image')\n",
        "plt.show()\n"
      ],
      "metadata": {
        "colab": {
          "base_uri": "https://localhost:8080/",
          "height": 452
        },
        "id": "CmStgVPHgqqk",
        "outputId": "84cb96a9-9c7f-44ba-884e-e3371da8be99"
      },
      "execution_count": 77,
      "outputs": [
        {
          "output_type": "display_data",
          "data": {
            "text/plain": [
              "<Figure size 640x480 with 1 Axes>"
            ],
            "image/png": "[encoded data removed]"
          },
          "metadata": {}
        }
      ]
    },
    {
      "cell_type": "markdown",
      "source": [
        "🌟 Exercise 6 : Basic Hypothesis Testing\n",
        "\n",
        "Instructions\n",
        "\n",
        "Create a sample dataset to test the effectiveness of a new training program on employee productivity:"
      ],
      "metadata": {
        "id": "mEObMjregIvU"
      }
    },
    {
      "cell_type": "code",
      "source": [
        "import numpy as np\n",
        "\n",
        "# Productivity scores of employees before the training program\n",
        "productivity_before = np.random.normal(loc=50, scale=10, size=30)\n",
        "\n",
        "# Productivity scores of the same employees after the training program\n",
        "productivity_after = productivity_before + np.random.normal(loc=5, scale=3, size=30)\n",
        "\n",
        "# Your task is to formulate a hypothesis regarding the training program's effectiveness\n",
        "# and test it using basic statistical functions in NumPy."
      ],
      "metadata": {
        "id": "pc9t8RBSg0lv"
      },
      "execution_count": 79,
      "outputs": []
    },
    {
      "cell_type": "code",
      "source": [
        "from scipy.stats import ttest_rel\n",
        "\n",
        "#Calculating the difference between the means before and after exposure\n",
        "mean_difference = np.mean(productivity_after - productivity_before)\n",
        "print(f\"Mean Difference: {mean_difference:.2f}\")\n",
        "\n",
        "# Null Hypothesis (H0)\n",
        "t_statistic, p_value = ttest_rel(productivity_after, productivity_before)\n",
        "\n",
        "alpha = 0.05\n",
        "print(f\"T-Statistic: {t_statistic:.2f}\")\n",
        "print(f\"P-Value: {p_value:.4f}\")\n",
        "\n",
        "if p_value < alpha:\n",
        "    print(\"The difference in productivity is statistically significant. Reject the null hypothesis.\")\n",
        "else:\n",
        "    print(\"There is not enough evidence to reject the null hypothesis.\")\n"
      ],
      "metadata": {
        "colab": {
          "base_uri": "https://localhost:8080/"
        },
        "id": "pVWFvPo7g0tF",
        "outputId": "ac0e85d6-a81e-412e-8215-5e638eaa23c7"
      },
      "execution_count": 81,
      "outputs": [
        {
          "output_type": "stream",
          "name": "stdout",
          "text": [
            "Mean Difference: 5.67\n",
            "T-Statistic: 9.34\n",
            "P-Value: 0.0000\n",
            "The difference in productivity is statistically significant. Reject the null hypothesis.\n"
          ]
        }
      ]
    },
    {
      "cell_type": "markdown",
      "source": [
        "🌟 Exercise 7 : Complex Array Comparison\n",
        "\n",
        "Instructions\n",
        "\n",
        "Create two arrays and perform element-wise comparison to find which elements are greater in the first array.\n",
        "\n",
        "The expected output is a boolean array showing which elements in the first array are greater than the corresponding elements in the second array.\n",
        "\n"
      ],
      "metadata": {
        "id": "aMtzYLbkgI1D"
      }
    },
    {
      "cell_type": "code",
      "source": [
        "array_1 = np.random.randint(1, 100, size=5)\n",
        "array_2 = np.random.randint(1, 100, size=5)\n",
        "\n",
        "comparison_result = array_1 > array_2\n",
        "\n",
        "print(\"Array 1:\", array_1)\n",
        "print(\"Array 2:\", array_2)\n",
        "print(\"Element-wise Comparison Result:\", comparison_result)\n"
      ],
      "metadata": {
        "colab": {
          "base_uri": "https://localhost:8080/"
        },
        "id": "Asl-PMr3gsbG",
        "outputId": "cf9a189c-3815-42c1-cdf1-43a814b7c94d"
      },
      "execution_count": 83,
      "outputs": [
        {
          "output_type": "stream",
          "name": "stdout",
          "text": [
            "Array 1: [44 92 30 93 46]\n",
            "Array 2: [ 6 99 37 24 93]\n",
            "Element-wise Comparison Result: [ True False False  True False]\n"
          ]
        }
      ]
    },
    {
      "cell_type": "markdown",
      "source": [
        "🌟 Exercise 8 : Time Series Data Manipulation\n",
        "\n",
        "Instructions\n",
        "\n",
        "Generate time series data for the year 2023. Demonstrate slicing for the following intervals:\n",
        "\n",
        "January to March\n",
        "April to June\n",
        "July to September\n",
        "October to December\n",
        "Generate a time series data for a specific period and demonstrate how to slice this data for different intervals.\n"
      ],
      "metadata": {
        "id": "9-9GNr1QgI6y"
      }
    },
    {
      "cell_type": "code",
      "source": [
        "import pandas as pd\n",
        "import numpy as np\n",
        "\n",
        "data_range = pd.date_range(start='2023-01-01', end='2023-12-31', freq='D')\n",
        "\n",
        "np.random.seed(42)\n",
        "data_values = np.random.randint(1, 100,len(data_range))\n",
        "\n",
        "time_series_df = pd.DataFrame({'Date': data_range, 'Value': data_values})\n",
        "\n",
        "\n",
        "print(\"Time Series Data:\")\n",
        "print(time_series_df.head())\n",
        "\n",
        "jan_mar_slice = time_series_df[(time_series_df['Date'] >= '2023-01-01') & (time_series_df['Date'] <= '2023-03-31')]\n",
        "apr_jun_slice = time_series_df[(time_series_df['Date'] >= '2023-04-01') & (time_series_df['Date'] <= '2023-06-30')]\n",
        "jul_sep_slice = time_series_df[(time_series_df['Date'] >= '2023-07-01') & (time_series_df['Date'] <= '2023-09-30')]\n",
        "oct_dec_slice = time_series_df[(time_series_df['Date'] >= '2023-10-01') & (time_series_df['Date'] <= '2023-12-31')]\n",
        "\n",
        "print(\"\\nSliced Data for January to March:\")\n",
        "print(jan_mar_slice.head())\n",
        "\n",
        "print(\"\\nSliced Data for April to June:\")\n",
        "print(apr_jun_slice.head())\n",
        "\n",
        "print(\"\\nSliced Data for July to September:\")\n",
        "print(jul_sep_slice.head())\n",
        "\n",
        "print(\"\\nSliced Data for October to December:\")\n",
        "print(oct_dec_slice.head())\n"
      ],
      "metadata": {
        "colab": {
          "base_uri": "https://localhost:8080/"
        },
        "id": "OdWb6Tucgn0A",
        "outputId": "7b7c162a-dff3-4e72-a2ff-1a99a2c7fa5d"
      },
      "execution_count": 93,
      "outputs": [
        {
          "output_type": "stream",
          "name": "stdout",
          "text": [
            "Time Series Data:\n",
            "        Date  Value\n",
            "0 2023-01-01     52\n",
            "1 2023-01-02     93\n",
            "2 2023-01-03     15\n",
            "3 2023-01-04     72\n",
            "4 2023-01-05     61\n",
            "\n",
            "Sliced Data for January to March:\n",
            "        Date  Value\n",
            "0 2023-01-01     52\n",
            "1 2023-01-02     93\n",
            "2 2023-01-03     15\n",
            "3 2023-01-04     72\n",
            "4 2023-01-05     61\n",
            "\n",
            "Sliced Data for April to June:\n",
            "         Date  Value\n",
            "90 2023-04-01     87\n",
            "91 2023-04-02     62\n",
            "92 2023-04-03     40\n",
            "93 2023-04-04     85\n",
            "94 2023-04-05     80\n",
            "\n",
            "Sliced Data for July to September:\n",
            "          Date  Value\n",
            "181 2023-07-01     44\n",
            "182 2023-07-02     84\n",
            "183 2023-07-03     30\n",
            "184 2023-07-04     62\n",
            "185 2023-07-05     75\n",
            "\n",
            "Sliced Data for October to December:\n",
            "          Date  Value\n",
            "273 2023-10-01     11\n",
            "274 2023-10-02     92\n",
            "275 2023-10-03     57\n",
            "276 2023-10-04     89\n",
            "277 2023-10-05     50\n"
          ]
        }
      ]
    },
    {
      "cell_type": "markdown",
      "source": [
        "🌟 Exercise 9 : Data Conversion\n",
        "\n",
        "Instructions\n",
        "\n",
        "Demonstrate how to convert a NumPy array to a Pandas DataFrame and vice versa.\n",
        "\n",
        "\n"
      ],
      "metadata": {
        "id": "5Y5jzClzgI-A"
      }
    },
    {
      "cell_type": "code",
      "source": [
        "\n",
        "random_NumPy_array = np.random.randint(1, 11, size=(5, 3))\n",
        "\n",
        "print(\"Random NumPy array\")\n",
        "print(random_NumPy_array)\n",
        "\n",
        "# Convert NumPy array to DataFrame\n",
        "\n",
        "df_from_numpy = pd.DataFrame(random_NumPy_array, columns=['A', 'B', 'C'])\n",
        "\n",
        "\n",
        "print(\"\\nDataFrame from NumPy:\")\n",
        "print(df_from_numpy)\n",
        "\n",
        "#  Convert DataFrame back to NumPy array\n",
        "versa_NumPy_array = df_from_numpy.to_numpy()\n",
        "\n",
        "print(\"\\nNumPy array from DataFrame:\")\n",
        "print(versa_NumPy_array)\n"
      ],
      "metadata": {
        "colab": {
          "base_uri": "https://localhost:8080/"
        },
        "id": "zJStuRVkggmP",
        "outputId": "27ba13aa-fc41-4aca-b4d2-8dd2d9638795"
      },
      "execution_count": 103,
      "outputs": [
        {
          "output_type": "stream",
          "name": "stdout",
          "text": [
            "Random NumPy array\n",
            "[[10  3 10]\n",
            " [ 1  8  5]\n",
            " [ 4  8  7]\n",
            " [ 2  1  4]\n",
            " [ 8  2  3]]\n",
            "\n",
            "DataFrame from NumPy:\n",
            "    A  B   C\n",
            "0  10  3  10\n",
            "1   1  8   5\n",
            "2   4  8   7\n",
            "3   2  1   4\n",
            "4   8  2   3\n",
            "\n",
            "NumPy array from DataFrame:\n",
            "[[10  3 10]\n",
            " [ 1  8  5]\n",
            " [ 4  8  7]\n",
            " [ 2  1  4]\n",
            " [ 8  2  3]]\n"
          ]
        }
      ]
    },
    {
      "cell_type": "markdown",
      "source": [
        "\n",
        "🌟 Exercise 10 : Basic Visualization\n",
        "\n",
        "Instructions\n",
        "\n",
        "Use Matplotlib to visualize a simple dataset created with NumPy (e.g., a line graph of random numbers).\n"
      ],
      "metadata": {
        "id": "eOjhQ6BhgJBy"
      }
    },
    {
      "cell_type": "code",
      "source": [
        "import numpy as np\n",
        "import matplotlib.pyplot as plt\n",
        "\n",
        "np.random.seed(42)\n",
        "x_values = np.arange(1, 11)\n",
        "y_values = np.random.randint(1, 30, size=10)\n",
        "\n",
        "plt.plot(x_values, y_values, marker='o', linestyle='-')\n",
        "\n",
        "plt.title('Line Graph of Random Numbers')\n",
        "plt.xlabel('X-axis')\n",
        "plt.ylabel('Y-axis')\n",
        "\n",
        "plt.grid(True)\n",
        "plt.show()\n"
      ],
      "metadata": {
        "colab": {
          "base_uri": "https://localhost:8080/",
          "height": 472
        },
        "id": "ql9Kga4QgYhh",
        "outputId": "5af51ba8-b545-4852-d535-27bab692f998"
      },
      "execution_count": 105,
      "outputs": [
        {
          "output_type": "display_data",
          "data": {
            "text/plain": [
              "<Figure size 640x480 with 1 Axes>"
            ],
            "image/png": "[encoded data removed]"
          },
          "metadata": {}
        }
      ]
    }
  ]
}
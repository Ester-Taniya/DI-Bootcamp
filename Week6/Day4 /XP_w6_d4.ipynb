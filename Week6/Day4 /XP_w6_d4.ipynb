{
  "nbformat": 4,
  "nbformat_minor": 0,
  "metadata": {
    "colab": {
      "provenance": [],
      "authorship_tag": "ABX9TyMR5nr7rb9yCLTR5E1UIO13",
      "include_colab_link": true
    },
    "kernelspec": {
      "name": "python3",
      "display_name": "Python 3"
    },
    "language_info": {
      "name": "python"
    }
  },
  "cells": [
    {
      "cell_type": "markdown",
      "metadata": {
        "id": "view-in-github",
        "colab_type": "text"
      },
      "source": [
        "<a href=\"https://colab.research.google.com/github/Ester-Taniya/DI-Bootcamp/blob/main/Week6/Day4%20/XP_w6_d4.ipynb\" target=\"_parent\"><img src=\"https://colab.research.google.com/assets/colab-badge.svg\" alt=\"Open In Colab\"/></a>"
      ]
    },
    {
      "cell_type": "markdown",
      "source": [
        "🌟 Exercise 1 : Linear Regression Analysis\n",
        "\n",
        "Instructions\n",
        "\n",
        "Objective: Apply linear regression to a dataset and interpret the results.\n",
        "\n",
        "Task: Given a dataset of housing prices (house_prices) and their corresponding sizes (house_sizes), use linear regression to predict the price of a house given its size.\n",
        "\n",
        "Dataset:\n",
        "\n",
        "house_sizes: [50, 70, 80, 100, 120] (in square meters)\n",
        "house_prices: [150,000, 200,000, 210,000, 250,000, 280,000] (in currency units)\n",
        "Questions:\n",
        "\n",
        "What is the slope and intercept of the regression line?\n",
        "Predict the price of a house that is 90 square meters.\n",
        "Interpret the meaning of the slope in the context of housing prices.\n"
      ],
      "metadata": {
        "id": "10XU3MLk1R9h"
      }
    },
    {
      "cell_type": "code",
      "source": [
        "import numpy as np\n",
        "from sklearn.linear_model import LinearRegression\n",
        "\n",
        "\n",
        "house_sizes = np.array([50, 70, 80, 100, 120]).reshape(-1, 1)\n",
        "house_prices = np.array([150000, 200000, 210000, 250000, 280000])\n",
        "\n",
        "model = LinearRegression()\n",
        "\n",
        "model.fit(house_sizes, house_prices)\n",
        "slope = model.coef_[0]\n",
        "intercept = model.intercept_\n",
        "\n",
        "print(\"Slope:\", slope)\n",
        "print(\"Intercept:\", intercept)\n",
        "\n",
        "\n",
        "predicted_price_90sqm = model.predict(np.array([[90]]))[0]\n",
        "print(\"Predicted Price for 90 sqm:\", predicted_price_90sqm)\n",
        "\n",
        "\n",
        "print(f\"The slope represents the increase in price for each additional square meter: {slope:.2f} currency units per sqm.\")\n"
      ],
      "metadata": {
        "colab": {
          "base_uri": "https://localhost:8080/"
        },
        "id": "5IoHqi3d1Uaj",
        "outputId": "652022c1-6713-4610-bc64-351b5cd1fa03"
      },
      "execution_count": 1,
      "outputs": [
        {
          "output_type": "stream",
          "name": "stdout",
          "text": [
            "Slope: 1828.7671232876708\n",
            "Intercept: 64383.56164383565\n",
            "Predicted Price for 90 sqm: 228972.60273972602\n",
            "The slope represents the increase in price for each additional square meter: 1828.77 currency units per sqm.\n"
          ]
        }
      ]
    },
    {
      "cell_type": "markdown",
      "source": [
        "🌟 Exercise 2 : Understanding ANOVA\n",
        "\n",
        "Instructions\n",
        "\n",
        "Objective: Test understanding of ANOVA and its application.\n",
        "\n",
        "Task: Three different fertilizers are applied to three separate groups of plants to test their effectiveness. The growth in centimeters is recorded.\n",
        "\n",
        "Dataset:\n",
        "\n",
        "fertilizer_1: [5, 6, 7, 6, 5]\n",
        "fertilizer_2: [7, 8, 7, 9, 8]\n",
        "fertilizer_3: [4, 5, 4, 3, 4]\n",
        "Questions:\n",
        "\n",
        "Perform an ANOVA test on the given data. What are the F-value and P-value?\n",
        "Based on the P-value, do the fertilizers have significantly different effects on plant growth?\n",
        "Explain what would happen if the P-value were greater than 0.05.\n",
        "\n"
      ],
      "metadata": {
        "id": "AYXunJEm1Upt"
      }
    },
    {
      "cell_type": "code",
      "source": [
        "import numpy as np\n",
        "from scipy.stats import f_oneway\n",
        "\n",
        "fertilizer_1 = np.array([5, 6, 7, 6, 5])\n",
        "fertilizer_2 = np.array([7, 8, 7, 9, 8])\n",
        "fertilizer_3 = np.array([4, 5, 4, 3, 4])\n",
        "\n",
        "f_value, p_value = f_oneway(fertilizer_1, fertilizer_2, fertilizer_3)\n",
        "\n",
        "print(\"F-value:\", f_value)\n",
        "print(\"P-value:\", p_value)\n",
        "\n",
        "if p_value < 0.05:\n",
        "    print(\"The fertilizers have significantly different effects on plant growth.\")\n",
        "else:\n",
        "    print(\"The fertilizers do not have significantly different effects on plant growth.\")\n"
      ],
      "metadata": {
        "colab": {
          "base_uri": "https://localhost:8080/"
        },
        "id": "ZY8V9LgB1U19",
        "outputId": "98a82052-4bc6-4f30-83b0-619b46a9f6f6"
      },
      "execution_count": 5,
      "outputs": [
        {
          "output_type": "stream",
          "name": "stdout",
          "text": [
            "F-value: 28.52631578947368\n",
            "P-value: 2.7542672098048448e-05\n",
            "The fertilizers have significantly different effects on plant growth.\n"
          ]
        }
      ]
    },
    {
      "cell_type": "markdown",
      "source": [
        "\n",
        "🌟 Exercise 3 : Probability Distributions\n",
        "\n",
        "Instructions\n",
        "\n",
        "Work with a binomial distribution: calculate probabilities for different numbers of successes.\n",
        "Example: Calculating the probability of getting exactly 5 heads in 10 coin flips.\n"
      ],
      "metadata": {
        "id": "xPXG1HTT1VBa"
      }
    },
    {
      "cell_type": "code",
      "source": [
        "import numpy as np\n",
        "from scipy.stats import binom\n",
        "\n",
        "n = 10\n",
        "p = 0.5\n",
        "k = 5\n",
        "\n",
        "probability = binom.pmf(k, n, p)\n",
        "print(probability)"
      ],
      "metadata": {
        "colab": {
          "base_uri": "https://localhost:8080/"
        },
        "id": "NsdoloJx1VM9",
        "outputId": "9c6fb1b4-1097-4600-c127-045fda343fc8"
      },
      "execution_count": 7,
      "outputs": [
        {
          "output_type": "stream",
          "name": "stdout",
          "text": [
            "0.24609375000000003\n"
          ]
        }
      ]
    },
    {
      "cell_type": "markdown",
      "source": [
        "\n",
        "🌟 Exercise 4 : Correlation Coefficients\n",
        "\n",
        "Instructions\n",
        "\n",
        "Calculate the Pearson and Spearman correlation coefficients between two variables in a dataset.\n",
        "Example in code: data = pd.DataFrame({'age': [23, 25, 30, 35, 40], 'income': [35000, 40000, 50000, 60000, 70000]})\n",
        "\n"
      ],
      "metadata": {
        "id": "KXd3FSgQ1VWP"
      }
    },
    {
      "cell_type": "code",
      "source": [
        "import numpy as np\n",
        "import pandas as pd\n",
        "from scipy.stats import spearmanr\n",
        "\n",
        "data = pd.DataFrame({'age': [23, 25, 30, 35, 40], 'income': [35000, 40000, 50000, 60000, 70000]})\n",
        "\n",
        "print(\"Pearson correlation coefficient:\", data.corr()[\"age\"][\"income\"])\n",
        "print(\"Spearman correlation coefficient:\", data.corr(method=\"spearman\")[\"age\"][\"income\"])"
      ],
      "metadata": {
        "colab": {
          "base_uri": "https://localhost:8080/"
        },
        "id": "3lALoKkvbQdF",
        "outputId": "33608475-b8e7-4f7c-c753-ad9f4084feb4"
      },
      "execution_count": 10,
      "outputs": [
        {
          "output_type": "stream",
          "name": "stdout",
          "text": [
            "Pearson correlation coefficient: 0.9996907452347202\n",
            "Spearman correlation coefficient: 1.0\n"
          ]
        }
      ]
    },
    {
      "cell_type": "code",
      "source": [],
      "metadata": {
        "id": "QJJz8tYg1WIh"
      },
      "execution_count": null,
      "outputs": []
    }
  ]
}